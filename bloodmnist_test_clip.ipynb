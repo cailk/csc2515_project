{
 "cells": [
  {
   "cell_type": "code",
   "execution_count": 4,
   "id": "cheap-tourist",
   "metadata": {},
   "outputs": [
    {
     "name": "stdout",
     "output_type": "stream",
     "text": [
      "Sun Nov 24 23:09:07 2024       \r\n",
      "+-----------------------------------------------------------------------------+\r\n",
      "| NVIDIA-SMI 525.105.17   Driver Version: 525.105.17   CUDA Version: 12.0     |\r\n",
      "|-------------------------------+----------------------+----------------------+\r\n",
      "| GPU  Name        Persistence-M| Bus-Id        Disp.A | Volatile Uncorr. ECC |\r\n",
      "| Fan  Temp  Perf  Pwr:Usage/Cap|         Memory-Usage | GPU-Util  Compute M. |\r\n",
      "|                               |                      |               MIG M. |\r\n",
      "|===============================+======================+======================|\r\n",
      "|   0  Tesla T4            On   | 00000000:D8:00.0 Off |                    0 |\r\n",
      "| N/A   34C    P8    15W /  70W |      3MiB / 15360MiB |      0%      Default |\r\n",
      "|                               |                      |                  N/A |\r\n",
      "+-------------------------------+----------------------+----------------------+\r\n",
      "                                                                               \r\n",
      "+-----------------------------------------------------------------------------+\r\n",
      "| Processes:                                                                  |\r\n",
      "|  GPU   GI   CI        PID   Type   Process name                  GPU Memory |\r\n",
      "|        ID   ID                                                   Usage      |\r\n",
      "|=============================================================================|\r\n",
      "|  No running processes found                                                 |\r\n",
      "+-----------------------------------------------------------------------------+\r\n"
     ]
    }
   ],
   "source": [
    "import torch\n",
    "import torch.nn as nn\n",
    "import torch.optim as optim\n",
    "import torch.nn.functional as F\n",
    "import clip\n",
    "import numpy as np\n",
    "import matplotlib.pyplot as plt\n",
    "from tqdm import tqdm\n",
    "from torchvision.models import resnet18\n",
    "from sklearn.cluster import KMeans\n",
    "from sklearn.decomposition import PCA\n",
    "from sklearn.neighbors import KNeighborsClassifier\n",
    "from sklearn.linear_model import LogisticRegression\n",
    "from sklearn.metrics import accuracy_score, confusion_matrix\n",
    "from scipy.optimize import linear_sum_assignment\n",
    "\n",
    "from data import get_bloodmnist_loader\n",
    "\n",
    "!nvidia-smi"
   ]
  },
  {
   "cell_type": "code",
   "execution_count": 5,
   "id": "independent-chess",
   "metadata": {},
   "outputs": [
    {
     "name": "stdout",
     "output_type": "stream",
     "text": [
      "Using downloaded and verified file: /h/lkcai/.medmnist/bloodmnist_128.npz\n",
      "Using downloaded and verified file: /h/lkcai/.medmnist/bloodmnist_128.npz\n"
     ]
    }
   ],
   "source": [
    "train_loader = get_bloodmnist_loader(split='train', batch_size=64)\n",
    "val_loader = get_bloodmnist_loader(split='val', batch_size=100)"
   ]
  },
  {
   "cell_type": "code",
   "execution_count": 7,
   "id": "genetic-medicare",
   "metadata": {},
   "outputs": [
    {
     "name": "stderr",
     "output_type": "stream",
     "text": [
      "100%|██████████| 18/18 [00:07<00:00,  2.26it/s]"
     ]
    },
    {
     "name": "stdout",
     "output_type": "stream",
     "text": [
      "24.299065420560748\n"
     ]
    },
    {
     "name": "stderr",
     "output_type": "stream",
     "text": [
      "\n"
     ]
    }
   ],
   "source": [
    "device = torch.device(\"cuda\" if torch.cuda.is_available() else \"cpu\")\n",
    "\n",
    "bloodmnist_label = {\n",
    "    \"0\": \"basophil\",\n",
    "    \"1\": \"eosinophil\",\n",
    "    \"2\": \"erythroblast\",\n",
    "    \"3\": \"immature granulocytes(myelocytes, metamyelocytes and promyelocytes)\",\n",
    "    \"4\": \"lymphocyte\",\n",
    "    \"5\": \"monocyte\",\n",
    "    \"6\": \"neutrophil\",\n",
    "    \"7\": \"platelet\",\n",
    "}\n",
    "\n",
    "\n",
    "model, preprocess = clip.load(\"RN50\", device=device)\n",
    "texts = clip.tokenize([\"a photo of \" + v for v in bloodmnist_label.values()]).to(device)\n",
    "\n",
    "correct = 0\n",
    "total = 0\n",
    "\n",
    "with torch.no_grad():\n",
    "    for images, labels in tqdm(val_loader):\n",
    "        images = images.to(device)\n",
    "        labels = labels.to(device).view(-1)\n",
    "            \n",
    "        logits_per_image, logits_per_text = model(images, texts)\n",
    "        probs = logits_per_image.softmax(dim=-1).max(1)[1]\n",
    "        \n",
    "        correct += probs.eq(labels).sum().item()\n",
    "        total += labels.size(0)\n",
    "\n",
    "accuracy = 100. * correct / total\n",
    "print(accuracy)"
   ]
  },
  {
   "cell_type": "code",
   "execution_count": null,
   "id": "defensive-northeast",
   "metadata": {},
   "outputs": [],
   "source": []
  }
 ],
 "metadata": {
  "kernelspec": {
   "display_name": "Python (3.8)",
   "language": "python",
   "name": "video_comp_py38"
  },
  "language_info": {
   "codemirror_mode": {
    "name": "ipython",
    "version": 3
   },
   "file_extension": ".py",
   "mimetype": "text/x-python",
   "name": "python",
   "nbconvert_exporter": "python",
   "pygments_lexer": "ipython3",
   "version": "3.8.20"
  }
 },
 "nbformat": 4,
 "nbformat_minor": 5
}
